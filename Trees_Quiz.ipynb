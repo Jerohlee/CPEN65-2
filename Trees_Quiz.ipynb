{
  "nbformat": 4,
  "nbformat_minor": 0,
  "metadata": {
    "colab": {
      "provenance": [],
      "authorship_tag": "ABX9TyNy5P8aMRhSzyA7rHAZ9hgY",
      "include_colab_link": true
    },
    "kernelspec": {
      "name": "python3",
      "display_name": "Python 3"
    },
    "language_info": {
      "name": "python"
    }
  },
  "cells": [
    {
      "cell_type": "markdown",
      "metadata": {
        "id": "view-in-github",
        "colab_type": "text"
      },
      "source": [
        "<a href=\"https://colab.research.google.com/github/jerohmojica/CPEN65-2/blob/main/Trees_Quiz.ipynb\" target=\"_parent\"><img src=\"https://colab.research.google.com/assets/colab-badge.svg\" alt=\"Open In Colab\"/></a>"
      ]
    },
    {
      "cell_type": "code",
      "execution_count": null,
      "metadata": {
        "id": "rOlhTiIO7QEP"
      },
      "outputs": [],
      "source": [
        "6. Children of node 16? Nodes = 13, 6, 60\n",
        "\n",
        "7. Parent of node 1? Nodes = 7\n",
        "\n",
        "8. Siblings of node 23?  Nodes = n/a\n",
        "\n",
        "9. Ancestors of node 9? Nodes = 4, 12, 7, 22\n",
        "\n",
        "10. Descendants of node 16? Nodes = 13, 23, 6, 60, 21\n",
        "\n",
        "11. Leaves. Nodes = 23, 6, 21, 20, 9, 1\n",
        "\n",
        "12. Non Leaves. Nodes = 13, 16, 60, 12, 7, 22\n",
        "\n",
        "13. Depth of node 4? 3\n",
        "\n",
        "14. Degree of the tree? 3\n",
        "\n",
        "15. Height of the tree? 4\n",
        "\n",
        "16. Weight of the tree? 6\n",
        "\n",
        "17. Is the tree a binary tree? No, node 16 has a degree/number of children of 3 \n",
        "\n",
        "18. Removing 6, is the tree a full binary tree? No because nodes 13 and 60 only has a degree of one.\n",
        "\n",
        "19. Removing 6, is the tree a complete binary tree? No because leaf node 1 has a depth of 2 while leaf nodes 23, 21, 20 has a depth of 3, and leaf node 9 has a depth of 4.\n",
        "                                            \n",
        "20. Is a full binary tree complete? No because all nodes has exactly 2 degrees which is considered to be a complete k-ary tree but the leafs of a full binary tree can have different depths which doesnt is considered as a not complete k-ary tree.\n",
        "\n",
        "21. Is a complete binary tree full?  Yes because a complete 2-ary tree should contain leaf nodes with same depth and also all of the non leaf nodes of a complete 2-ary has a degree of two which is needed to consider it a a full binary tree.\n",
        "\n",
        "22. How many leaves does a complete n-ary tree of height h have?. \n",
        "      n^h\n",
        "      n = 2 , h = 6\n",
        "      2^6 = 64\n",
        "      Total number of leaves is 64\n",
        "\n",
        "23. What is the height of a complete n-ary tree with m leaves?.\n",
        "      log base of n (m)\n",
        "      n = 2 , m = 64\n",
        "      2 (64)\n",
        "      Height is 6\n",
        "\n",
        "24. What is the number of internal nodes of a complete n-ary tree of height h?.\n",
        "      (n^h-1)/(n-1)\n",
        "      h = 4 , n = 3\n",
        "      (3^4-1)/(3-1)\n",
        "      The number of internal nodes is 40\n",
        "\n",
        "25. What is the total number of nodes a complete n-ary tree of h have?\n",
        "      (n^(h+1)-1)/(n-1)\n",
        "      h = 4 , n = 3\n",
        "      (3^(4+1)-1)/(3-1)\n",
        "      The number of existing nodes is 121"
      ]
    }
  ]
}