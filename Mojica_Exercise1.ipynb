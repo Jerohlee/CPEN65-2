{
  "nbformat": 4,
  "nbformat_minor": 0,
  "metadata": {
    "colab": {
      "provenance": [],
      "collapsed_sections": [],
      "authorship_tag": "ABX9TyOAMhCOq0Dzv0tdTnNiuEEb",
      "include_colab_link": true
    },
    "kernelspec": {
      "name": "python3",
      "display_name": "Python 3"
    },
    "language_info": {
      "name": "python"
    }
  },
  "cells": [
    {
      "cell_type": "markdown",
      "metadata": {
        "id": "view-in-github",
        "colab_type": "text"
      },
      "source": [
        "<a href=\"https://colab.research.google.com/github/jerohmojica/CPEN65-2/blob/main/Mojica_Exercise1.ipynb\" target=\"_parent\"><img src=\"https://colab.research.google.com/assets/colab-badge.svg\" alt=\"Open In Colab\"/></a>"
      ]
    },
    {
      "cell_type": "code",
      "execution_count": 3,
      "metadata": {
        "colab": {
          "base_uri": "https://localhost:8080/"
        },
        "id": "me-tjXsE3X58",
        "outputId": "5b7940c1-fe20-4bff-f7b7-488992180538"
      },
      "outputs": [
        {
          "output_type": "stream",
          "name": "stdout",
          "text": [
            "JEROH LEE MALABANAN MOJICA\n",
            "ACIJOM NANABALAM EEL HOREJ\n"
          ]
        }
      ],
      "source": [
        "#Create a python program that use Array\n",
        "#Insert each character of your full name and display each character of your full name in reverse order\n",
        "\n",
        "name= ['J','E','R','O','H',' ','L','E','E',' ','M','A','L','A','B','A','N','A','N',' ','M',\n",
        "       'O','J','I','C','A']\n",
        "print(*name,sep=\"\")\n",
        "name.reverse()\n",
        "print(*name,sep=\"\")"
      ]
    }
  ]
}